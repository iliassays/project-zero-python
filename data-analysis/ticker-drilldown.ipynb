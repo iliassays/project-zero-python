{
 "cells": [
  {
   "cell_type": "code",
   "execution_count": 8,
   "metadata": {},
   "outputs": [
    {
     "name": "stdout",
     "output_type": "stream",
     "text": [
      "Defaulting to user installation because normal site-packages is not writeable\n",
      "Requirement already satisfied: requests in /Users/iliashossain/Library/Python/3.9/lib/python/site-packages (2.31.0)\n",
      "Requirement already satisfied: urllib3<3,>=1.21.1 in /Users/iliashossain/Library/Python/3.9/lib/python/site-packages (from requests) (2.2.0)\n",
      "Requirement already satisfied: charset-normalizer<4,>=2 in /Users/iliashossain/Library/Python/3.9/lib/python/site-packages (from requests) (3.3.2)\n",
      "Requirement already satisfied: idna<4,>=2.5 in /Users/iliashossain/Library/Python/3.9/lib/python/site-packages (from requests) (3.6)\n",
      "Requirement already satisfied: certifi>=2017.4.17 in /Users/iliashossain/Library/Python/3.9/lib/python/site-packages (from requests) (2023.11.17)\n",
      "\u001b[33mWARNING: You are using pip version 21.2.4; however, version 24.3.1 is available.\n",
      "You should consider upgrading via the '/Library/Developer/CommandLineTools/usr/bin/python3 -m pip install --upgrade pip' command.\u001b[0m\n",
      "Note: you may need to restart the kernel to use updated packages.\n"
     ]
    }
   ],
   "source": [
    "pip install requests"
   ]
  },
  {
   "cell_type": "code",
   "execution_count": 22,
   "metadata": {},
   "outputs": [
    {
     "name": "stdout",
     "output_type": "stream",
     "text": [
      "Defaulting to user installation because normal site-packages is not writeable\n",
      "Requirement already satisfied: yfinance in /Users/iliashossain/Library/Python/3.9/lib/python/site-packages (0.2.49)\n",
      "Requirement already satisfied: beautifulsoup4>=4.11.1 in /Users/iliashossain/Library/Python/3.9/lib/python/site-packages (from yfinance) (4.12.3)\n",
      "Requirement already satisfied: platformdirs>=2.0.0 in /Users/iliashossain/Library/Python/3.9/lib/python/site-packages (from yfinance) (4.1.0)\n",
      "Requirement already satisfied: pytz>=2022.5 in /Users/iliashossain/Library/Python/3.9/lib/python/site-packages (from yfinance) (2024.1)\n",
      "Requirement already satisfied: multitasking>=0.0.7 in /Users/iliashossain/Library/Python/3.9/lib/python/site-packages (from yfinance) (0.0.11)\n",
      "Requirement already satisfied: html5lib>=1.1 in /Users/iliashossain/Library/Python/3.9/lib/python/site-packages (from yfinance) (1.1)\n",
      "Requirement already satisfied: frozendict>=2.3.4 in /Users/iliashossain/Library/Python/3.9/lib/python/site-packages (from yfinance) (2.4.6)\n",
      "Requirement already satisfied: numpy>=1.16.5 in /Users/iliashossain/Library/Python/3.9/lib/python/site-packages (from yfinance) (1.26.2)\n",
      "Requirement already satisfied: requests>=2.31 in /Users/iliashossain/Library/Python/3.9/lib/python/site-packages (from yfinance) (2.31.0)\n",
      "Requirement already satisfied: pandas>=1.3.0 in /Users/iliashossain/Library/Python/3.9/lib/python/site-packages (from yfinance) (2.2.0)\n",
      "Requirement already satisfied: lxml>=4.9.1 in /Users/iliashossain/Library/Python/3.9/lib/python/site-packages (from yfinance) (4.9.4)\n",
      "Requirement already satisfied: peewee>=3.16.2 in /Users/iliashossain/Library/Python/3.9/lib/python/site-packages (from yfinance) (3.17.8)\n",
      "Requirement already satisfied: soupsieve>1.2 in /Users/iliashossain/Library/Python/3.9/lib/python/site-packages (from beautifulsoup4>=4.11.1->yfinance) (2.6)\n",
      "Requirement already satisfied: webencodings in /Users/iliashossain/Library/Python/3.9/lib/python/site-packages (from html5lib>=1.1->yfinance) (0.5.1)\n",
      "Requirement already satisfied: six>=1.9 in /Library/Developer/CommandLineTools/Library/Frameworks/Python3.framework/Versions/3.9/lib/python3.9/site-packages (from html5lib>=1.1->yfinance) (1.15.0)\n",
      "Requirement already satisfied: python-dateutil>=2.8.2 in /Users/iliashossain/Library/Python/3.9/lib/python/site-packages (from pandas>=1.3.0->yfinance) (2.8.2)\n",
      "Requirement already satisfied: tzdata>=2022.7 in /Users/iliashossain/Library/Python/3.9/lib/python/site-packages (from pandas>=1.3.0->yfinance) (2023.3)\n",
      "Requirement already satisfied: charset-normalizer<4,>=2 in /Users/iliashossain/Library/Python/3.9/lib/python/site-packages (from requests>=2.31->yfinance) (3.3.2)\n",
      "Requirement already satisfied: urllib3<3,>=1.21.1 in /Users/iliashossain/Library/Python/3.9/lib/python/site-packages (from requests>=2.31->yfinance) (2.2.0)\n",
      "Requirement already satisfied: idna<4,>=2.5 in /Users/iliashossain/Library/Python/3.9/lib/python/site-packages (from requests>=2.31->yfinance) (3.6)\n",
      "Requirement already satisfied: certifi>=2017.4.17 in /Users/iliashossain/Library/Python/3.9/lib/python/site-packages (from requests>=2.31->yfinance) (2023.11.17)\n",
      "\u001b[33mWARNING: You are using pip version 21.2.4; however, version 24.3.1 is available.\n",
      "You should consider upgrading via the '/Library/Developer/CommandLineTools/usr/bin/python3 -m pip install --upgrade pip' command.\u001b[0m\n",
      "Note: you may need to restart the kernel to use updated packages.\n"
     ]
    }
   ],
   "source": [
    "pip install yfinance"
   ]
  },
  {
   "cell_type": "code",
   "execution_count": null,
   "metadata": {},
   "outputs": [
    {
     "ename": "AttributeError",
     "evalue": "'NoneType' object has no attribute 'find_all'",
     "output_type": "error",
     "traceback": [
      "\u001b[0;31m---------------------------------------------------------------------------\u001b[0m",
      "\u001b[0;31mAttributeError\u001b[0m                            Traceback (most recent call last)",
      "Cell \u001b[0;32mIn[23], line 23\u001b[0m\n\u001b[1;32m     21\u001b[0m \u001b[38;5;66;03m# Example usage:\u001b[39;00m\n\u001b[1;32m     22\u001b[0m url \u001b[38;5;241m=\u001b[39m \u001b[38;5;124m'\u001b[39m\u001b[38;5;124mhttps://www.investing.com/equities/pre-market\u001b[39m\u001b[38;5;124m'\u001b[39m\n\u001b[0;32m---> 23\u001b[0m gainers \u001b[38;5;241m=\u001b[39m \u001b[43mscrape_premarket_gainers\u001b[49m\u001b[43m(\u001b[49m\u001b[43murl\u001b[49m\u001b[43m)\u001b[49m\n\u001b[1;32m     24\u001b[0m \u001b[38;5;28;01mfor\u001b[39;00m gainer \u001b[38;5;129;01min\u001b[39;00m gainers:\n\u001b[1;32m     25\u001b[0m     \u001b[38;5;28mprint\u001b[39m(\u001b[38;5;124mf\u001b[39m\u001b[38;5;124m\"\u001b[39m\u001b[38;5;124mTicker: \u001b[39m\u001b[38;5;132;01m{\u001b[39;00mgainer[\u001b[38;5;124m'\u001b[39m\u001b[38;5;124mticker\u001b[39m\u001b[38;5;124m'\u001b[39m]\u001b[38;5;132;01m}\u001b[39;00m\u001b[38;5;124m, Price: \u001b[39m\u001b[38;5;132;01m{\u001b[39;00mgainer[\u001b[38;5;124m'\u001b[39m\u001b[38;5;124mprice\u001b[39m\u001b[38;5;124m'\u001b[39m]\u001b[38;5;132;01m}\u001b[39;00m\u001b[38;5;124m, Change: \u001b[39m\u001b[38;5;132;01m{\u001b[39;00mgainer[\u001b[38;5;124m'\u001b[39m\u001b[38;5;124mchange\u001b[39m\u001b[38;5;124m'\u001b[39m]\u001b[38;5;132;01m}\u001b[39;00m\u001b[38;5;124m\"\u001b[39m)\n",
      "Cell \u001b[0;32mIn[23], line 13\u001b[0m, in \u001b[0;36mscrape_premarket_gainers\u001b[0;34m(url)\u001b[0m\n\u001b[1;32m     11\u001b[0m \u001b[38;5;66;03m# Extract data from each row in the table\u001b[39;00m\n\u001b[1;32m     12\u001b[0m gainers \u001b[38;5;241m=\u001b[39m []\n\u001b[0;32m---> 13\u001b[0m \u001b[38;5;28;01mfor\u001b[39;00m row \u001b[38;5;129;01min\u001b[39;00m \u001b[43mtable\u001b[49m\u001b[38;5;241;43m.\u001b[39;49m\u001b[43mfind_all\u001b[49m(\u001b[38;5;124m'\u001b[39m\u001b[38;5;124mtr\u001b[39m\u001b[38;5;124m'\u001b[39m):\n\u001b[1;32m     14\u001b[0m     ticker \u001b[38;5;241m=\u001b[39m row\u001b[38;5;241m.\u001b[39mfind(\u001b[38;5;124m'\u001b[39m\u001b[38;5;124mtd\u001b[39m\u001b[38;5;124m'\u001b[39m, {\u001b[38;5;124m'\u001b[39m\u001b[38;5;124mclass\u001b[39m\u001b[38;5;124m'\u001b[39m: \u001b[38;5;124m'\u001b[39m\u001b[38;5;124msymbol\u001b[39m\u001b[38;5;124m'\u001b[39m})\u001b[38;5;241m.\u001b[39mtext\u001b[38;5;241m.\u001b[39mstrip()\n\u001b[1;32m     15\u001b[0m     price \u001b[38;5;241m=\u001b[39m row\u001b[38;5;241m.\u001b[39mfind(\u001b[38;5;124m'\u001b[39m\u001b[38;5;124mtd\u001b[39m\u001b[38;5;124m'\u001b[39m, {\u001b[38;5;124m'\u001b[39m\u001b[38;5;124mclass\u001b[39m\u001b[38;5;124m'\u001b[39m: \u001b[38;5;124m'\u001b[39m\u001b[38;5;124mprice\u001b[39m\u001b[38;5;124m'\u001b[39m})\u001b[38;5;241m.\u001b[39mtext\u001b[38;5;241m.\u001b[39mstrip()\n",
      "\u001b[0;31mAttributeError\u001b[0m: 'NoneType' object has no attribute 'find_all'"
     ]
    }
   ],
   "source": [
    "import requests\n",
    "from bs4 import BeautifulSoup\n",
    "\n",
    "def scrape_premarket_gainers(url):\n",
    "    response = requests.get(url)\n",
    "    soup = BeautifulSoup(response.text, 'html.parser')\n",
    "\n",
    "    # Find the specific table\n",
    "    table = soup.find('table', {'data-test': 'pre-market-most-active-stocks-table'})\n",
    "\n",
    "    # Extract data from each row in the table\n",
    "    gainers = []\n",
    "    for row in table.find_all('tr'):\n",
    "        ticker = row.find('td', {'class': 'symbol'}).text.strip()\n",
    "        price = row.find('td', {'class': 'price'}).text.strip()\n",
    "        change = row.find('td', {'class': 'change'}).text.strip()\n",
    "        gainers.append({'ticker': ticker, 'price': price, 'change': change})\n",
    "\n",
    "    return gainers\n",
    "\n",
    "# Example usage:\n",
    "url = 'https://www.investing.com/equities/pre-market'\n",
    "gainers = scrape_premarket_gainers(url)\n",
    "for gainer in gainers:\n",
    "    print(f\"Ticker: {gainer['ticker']}, Price: {gainer['price']}, Change: {gainer['change']}\")"
   ]
  }
 ],
 "metadata": {
  "kernelspec": {
   "display_name": "Python 3",
   "language": "python",
   "name": "python3"
  },
  "language_info": {
   "codemirror_mode": {
    "name": "ipython",
    "version": 3
   },
   "file_extension": ".py",
   "mimetype": "text/x-python",
   "name": "python",
   "nbconvert_exporter": "python",
   "pygments_lexer": "ipython3",
   "version": "3.9.6"
  }
 },
 "nbformat": 4,
 "nbformat_minor": 2
}
